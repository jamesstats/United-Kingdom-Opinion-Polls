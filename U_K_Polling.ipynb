{
 "cells": [
  {
   "cell_type": "code",
   "execution_count": 19,
   "id": "d7989758",
   "metadata": {},
   "outputs": [],
   "source": [
    "\n",
    "import pandas as pd"
   ]
  },
  {
   "cell_type": "code",
   "execution_count": 5,
   "id": "f0c2aa9b",
   "metadata": {},
   "outputs": [],
   "source": [
    "u_k='https://en.wikipedia.org/wiki/Opinion_polling_for_the_next_United_Kingdom_general_election' "
   ]
  },
  {
   "cell_type": "code",
   "execution_count": 6,
   "id": "fa9ceafa",
   "metadata": {},
   "outputs": [],
   "source": [
    "polls = pd.read_html(u_k)  #reading the html "
   ]
  },
  {
   "cell_type": "code",
   "execution_count": 7,
   "id": "4f705bb0",
   "metadata": {},
   "outputs": [],
   "source": [
    "uk=polls[1] #chosing the first table"
   ]
  },
  {
   "cell_type": "code",
   "execution_count": 8,
   "id": "9e934e53",
   "metadata": {},
   "outputs": [],
   "source": [
    "uk.rename(columns={'Datesconducted':'Date'},inplace=True) #rename the column to wards"
   ]
  },
  {
   "cell_type": "code",
   "execution_count": 9,
   "id": "ebfbb28e",
   "metadata": {},
   "outputs": [
    {
     "name": "stderr",
     "output_type": "stream",
     "text": [
      "/Users/jameskuria/opt/anaconda3/lib/python3.9/site-packages/pandas/core/generic.py:4150: PerformanceWarning: dropping on a non-lexsorted multi-index without a level parameter may impact performance.\n",
      "  obj = obj._drop_axis(labels, axis, level=level, errors=errors)\n"
     ]
    }
   ],
   "source": [
    "uk.drop('Samplesize',inplace=True, axis=1) #deleting unwanted columns\n",
    "uk.drop('Reform', inplace=True, axis=1)\n",
    "uk.drop('Client', inplace=True, axis=1)\n",
    "uk.drop('Others', inplace=True, axis=1) "
   ]
  },
  {
   "cell_type": "code",
   "execution_count": 10,
   "id": "f6b8b156",
   "metadata": {},
   "outputs": [],
   "source": [
    "uk.columns=[multicols[-1] for multicols in uk.columns] #deleting the extra column header"
   ]
  },
  {
   "cell_type": "code",
   "execution_count": 16,
   "id": "3b0fd318",
   "metadata": {},
   "outputs": [],
   "source": [
    "uk.rename(columns={'Unnamed: 5_level_1':'Cons','Unnamed: 6_level_1':'Lab','Unnamed: 7_level_1':'LibDems','Unnamed: 8_level_1':'SNP','Unnamed: 9_level_1':'Greens'},inplace=True) #rename the column to wards"
   ]
  },
  {
   "cell_type": "code",
   "execution_count": 14,
   "id": "16e6d3d0",
   "metadata": {},
   "outputs": [],
   "source": [
    "uk=uk.drop(uk.index[[46,69]]) #deleting unwanted rows by index number a.k.a row number\n"
   ]
  },
  {
   "cell_type": "code",
   "execution_count": 30,
   "id": "47afd6e2",
   "metadata": {},
   "outputs": [
    {
     "data": {
      "text/html": [
       "<div>\n",
       "<style scoped>\n",
       "    .dataframe tbody tr th:only-of-type {\n",
       "        vertical-align: middle;\n",
       "    }\n",
       "\n",
       "    .dataframe tbody tr th {\n",
       "        vertical-align: top;\n",
       "    }\n",
       "\n",
       "    .dataframe thead th {\n",
       "        text-align: right;\n",
       "    }\n",
       "</style>\n",
       "<table border=\"1\" class=\"dataframe\">\n",
       "  <thead>\n",
       "    <tr style=\"text-align: right;\">\n",
       "      <th></th>\n",
       "      <th>Date</th>\n",
       "      <th>Pollster</th>\n",
       "      <th>Area</th>\n",
       "      <th>Cons</th>\n",
       "      <th>Lab</th>\n",
       "      <th>LibDems</th>\n",
       "      <th>SNP</th>\n",
       "      <th>Greens</th>\n",
       "      <th>Lead</th>\n",
       "    </tr>\n",
       "  </thead>\n",
       "  <tbody>\n",
       "    <tr>\n",
       "      <th>0</th>\n",
       "      <td>27–28 Apr</td>\n",
       "      <td>Techne UK</td>\n",
       "      <td>UK</td>\n",
       "      <td>35%</td>\n",
       "      <td>40%</td>\n",
       "      <td>9%</td>\n",
       "      <td>4%</td>\n",
       "      <td>6%</td>\n",
       "      <td>5%</td>\n",
       "    </tr>\n",
       "    <tr>\n",
       "      <th>1</th>\n",
       "      <td>20–28 Apr</td>\n",
       "      <td>Ipsos MORI</td>\n",
       "      <td>GB</td>\n",
       "      <td>35%</td>\n",
       "      <td>40%</td>\n",
       "      <td>10%</td>\n",
       "      <td>5%</td>\n",
       "      <td>7%</td>\n",
       "      <td>5%</td>\n",
       "    </tr>\n",
       "    <tr>\n",
       "      <th>2</th>\n",
       "      <td>26–27 Apr</td>\n",
       "      <td>YouGov</td>\n",
       "      <td>GB</td>\n",
       "      <td>33%</td>\n",
       "      <td>39%</td>\n",
       "      <td>11%</td>\n",
       "      <td>5%</td>\n",
       "      <td>6%</td>\n",
       "      <td>6%</td>\n",
       "    </tr>\n",
       "    <tr>\n",
       "      <th>3</th>\n",
       "      <td>22–26 Apr</td>\n",
       "      <td>Survation</td>\n",
       "      <td>UK</td>\n",
       "      <td>33%</td>\n",
       "      <td>42%</td>\n",
       "      <td>9%</td>\n",
       "      <td>4%</td>\n",
       "      <td>4%</td>\n",
       "      <td>9%</td>\n",
       "    </tr>\n",
       "    <tr>\n",
       "      <th>4</th>\n",
       "      <td>24 Apr</td>\n",
       "      <td>Redfield &amp; Wilton Strategies</td>\n",
       "      <td>GB</td>\n",
       "      <td>34%</td>\n",
       "      <td>42%</td>\n",
       "      <td>11%</td>\n",
       "      <td>4%</td>\n",
       "      <td>4%</td>\n",
       "      <td>8%</td>\n",
       "    </tr>\n",
       "  </tbody>\n",
       "</table>\n",
       "</div>"
      ],
      "text/plain": [
       "        Date                      Pollster Area Cons  Lab LibDems SNP Greens  \\\n",
       "0  27–28 Apr                     Techne UK   UK  35%  40%      9%  4%     6%   \n",
       "1  20–28 Apr                    Ipsos MORI   GB  35%  40%     10%  5%     7%   \n",
       "2  26–27 Apr                        YouGov   GB  33%  39%     11%  5%     6%   \n",
       "3  22–26 Apr                     Survation   UK  33%  42%      9%  4%     4%   \n",
       "4     24 Apr  Redfield & Wilton Strategies   GB  34%  42%     11%  4%     4%   \n",
       "\n",
       "  Lead  \n",
       "0   5%  \n",
       "1   5%  \n",
       "2   6%  \n",
       "3   9%  \n",
       "4   8%  "
      ]
     },
     "execution_count": 30,
     "metadata": {},
     "output_type": "execute_result"
    }
   ],
   "source": [
    "uk.head()"
   ]
  },
  {
   "cell_type": "code",
   "execution_count": 31,
   "id": "c6bc0853",
   "metadata": {},
   "outputs": [],
   "source": [
    "uk.to_csv(\"all_polls.csv\", index=False) "
   ]
  },
  {
   "cell_type": "code",
   "execution_count": null,
   "id": "6059dbbf",
   "metadata": {},
   "outputs": [],
   "source": []
  }
 ],
 "metadata": {
  "kernelspec": {
   "display_name": "Python 3 (ipykernel)",
   "language": "python",
   "name": "python3"
  },
  "language_info": {
   "codemirror_mode": {
    "name": "ipython",
    "version": 3
   },
   "file_extension": ".py",
   "mimetype": "text/x-python",
   "name": "python",
   "nbconvert_exporter": "python",
   "pygments_lexer": "ipython3",
   "version": "3.9.7"
  }
 },
 "nbformat": 4,
 "nbformat_minor": 5
}
