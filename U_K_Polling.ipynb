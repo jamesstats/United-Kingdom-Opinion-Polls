{
 "cells": [
  {
   "cell_type": "code",
   "execution_count": 19,
   "id": "59c869d3",
   "metadata": {},
   "outputs": [],
   "source": [
    "\n",
    "import pandas as pd"
   ]
  },
  {
   "cell_type": "code",
   "execution_count": 5,
   "id": "826cc2dc",
   "metadata": {},
   "outputs": [],
   "source": [
    "u_k='https://en.wikipedia.org/wiki/Opinion_polling_for_the_next_United_Kingdom_general_election' "
   ]
  },
  {
   "cell_type": "code",
   "execution_count": 6,
   "id": "3ce144e6",
   "metadata": {},
   "outputs": [],
   "source": [
    "polls = pd.read_html(u_k)  #reading the html "
   ]
  },
  {
   "cell_type": "code",
   "execution_count": 7,
   "id": "0cd642d5",
   "metadata": {},
   "outputs": [],
   "source": [
    "uk=polls[1] #chosing the first table"
   ]
  },
  {
   "cell_type": "code",
   "execution_count": 8,
   "id": "01c29bf3",
   "metadata": {},
   "outputs": [],
   "source": [
    "uk.rename(columns={'Datesconducted':'Date'},inplace=True) #rename the column to wards"
   ]
  },
  {
   "cell_type": "code",
   "execution_count": 9,
   "id": "54336035",
   "metadata": {},
   "outputs": [
    {
     "name": "stderr",
     "output_type": "stream",
     "text": [
      "/Users/jameskuria/opt/anaconda3/lib/python3.9/site-packages/pandas/core/generic.py:4150: PerformanceWarning: dropping on a non-lexsorted multi-index without a level parameter may impact performance.\n",
      "  obj = obj._drop_axis(labels, axis, level=level, errors=errors)\n"
     ]
    }
   ],
   "source": [
    "uk.drop('Samplesize',inplace=True, axis=1) #deleting unwanted columns\n",
    "uk.drop('Reform', inplace=True, axis=1)\n",
    "uk.drop('Client', inplace=True, axis=1)\n",
    "uk.drop('Others', inplace=True, axis=1) "
   ]
  },
  {
   "cell_type": "code",
   "execution_count": 10,
   "id": "7e21f3fc",
   "metadata": {},
   "outputs": [],
   "source": [
    "uk.columns=[multicols[-1] for multicols in uk.columns] #deleting the extra column header"
   ]
  },
  {
   "cell_type": "code",
   "execution_count": 16,
   "id": "ba6792ec",
   "metadata": {},
   "outputs": [],
   "source": [
    "uk.rename(columns={'Unnamed: 5_level_1':'Cons','Unnamed: 6_level_1':'Lab','Unnamed: 7_level_1':'LibDems','Unnamed: 8_level_1':'SNP','Unnamed: 9_level_1':'Greens'},inplace=True) #rename the column to wards"
   ]
  },
  {
   "cell_type": "code",
   "execution_count": 14,
   "id": "e7f890ff",
   "metadata": {},
   "outputs": [],
   "source": [
    "uk=uk.drop(uk.index[[46,69]]) #deleting unwanted rows by index number a.k.a row number\n"
   ]
  },
  {
   "cell_type": "code",
   "execution_count": 23,
   "id": "c551a191",
   "metadata": {},
   "outputs": [],
   "source": [
    "uk.to_csv('polls.csv', index=False) "
   ]
  }
 ],
 "metadata": {
  "kernelspec": {
   "display_name": "Python 3 (ipykernel)",
   "language": "python",
   "name": "python3"
  },
  "language_info": {
   "codemirror_mode": {
    "name": "ipython",
    "version": 3
   },
   "file_extension": ".py",
   "mimetype": "text/x-python",
   "name": "python",
   "nbconvert_exporter": "python",
   "pygments_lexer": "ipython3",
   "version": "3.9.7"
  }
 },
 "nbformat": 4,
 "nbformat_minor": 5
}
