{
 "cells": [
  {
   "cell_type": "code",
   "execution_count": 1,
   "id": "d7989758",
   "metadata": {},
   "outputs": [],
   "source": [
    "import seaborn as sns\n",
    "import pandas as pd\n",
    "import matplotlib.pyplot as plt"
   ]
  },
  {
   "cell_type": "code",
   "execution_count": 2,
   "id": "f0c2aa9b",
   "metadata": {},
   "outputs": [],
   "source": [
    "u_k='https://en.wikipedia.org/wiki/Opinion_polling_for_the_next_United_Kingdom_general_election' "
   ]
  },
  {
   "cell_type": "code",
   "execution_count": 3,
   "id": "fa9ceafa",
   "metadata": {},
   "outputs": [],
   "source": [
    "polls = pd.read_html(u_k)  #reading the html "
   ]
  },
  {
   "cell_type": "code",
   "execution_count": 4,
   "id": "4f705bb0",
   "metadata": {},
   "outputs": [],
   "source": [
    "westminster=polls[1] #chosing the first table"
   ]
  },
  {
   "cell_type": "code",
   "execution_count": 5,
   "id": "9e934e53",
   "metadata": {},
   "outputs": [],
   "source": [
    "westminster.rename(columns={'Datesconducted':'Date'},inplace=True) #rename the column to wards"
   ]
  },
  {
   "cell_type": "code",
   "execution_count": 6,
   "id": "ebfbb28e",
   "metadata": {},
   "outputs": [
    {
     "name": "stderr",
     "output_type": "stream",
     "text": [
      "/Users/jameskuria/opt/anaconda3/lib/python3.9/site-packages/pandas/core/generic.py:4150: PerformanceWarning: dropping on a non-lexsorted multi-index without a level parameter may impact performance.\n",
      "  obj = obj._drop_axis(labels, axis, level=level, errors=errors)\n"
     ]
    }
   ],
   "source": [
    "westminster.drop('Samplesize',inplace=True, axis=1) #deleting unwanted columns\n",
    "westminster.drop('Reform', inplace=True, axis=1)\n",
    "westminster.drop('Client', inplace=True, axis=1)\n",
    "westminster.drop('Others', inplace=True, axis=1) "
   ]
  },
  {
   "cell_type": "code",
   "execution_count": 7,
   "id": "f6b8b156",
   "metadata": {},
   "outputs": [],
   "source": [
    "westminster.columns=[multicols[-1] for multicols in westminster.columns] #deleting the extra column header"
   ]
  },
  {
   "cell_type": "code",
   "execution_count": 8,
   "id": "3b0fd318",
   "metadata": {},
   "outputs": [],
   "source": [
    "westminster.rename(columns={'Unnamed: 5_level_1':'Cons','Unnamed: 6_level_1':'Lab','Unnamed: 7_level_1':'LibDems','Unnamed: 8_level_1':'SNP','Unnamed: 9_level_1':'Greens'},inplace=True) #rename the column to wards"
   ]
  },
  {
   "cell_type": "code",
   "execution_count": 13,
   "id": "d90195b2",
   "metadata": {},
   "outputs": [],
   "source": [
    "westminster=westminster.drop(labels=[3],axis=0) "
   ]
  },
  {
   "cell_type": "code",
   "execution_count": 14,
   "id": "16e6d3d0",
   "metadata": {},
   "outputs": [],
   "source": [
    "westminster=westminster.drop(labels=[53],axis=0) #deleting unwanted rows by index number a.k.a row number\n"
   ]
  },
  {
   "cell_type": "code",
   "execution_count": 15,
   "id": "8532608a",
   "metadata": {},
   "outputs": [],
   "source": [
    "westminster=westminster.drop(labels=[76],axis=0) #deleting unwanted rows by index number a.k.a row number\n"
   ]
  },
  {
   "cell_type": "code",
   "execution_count": 17,
   "id": "c6bc0853",
   "metadata": {},
   "outputs": [],
   "source": [
    "westminster.to_csv(\"all_polls.csv\", index=False) "
   ]
  }
 ],
 "metadata": {
  "kernelspec": {
   "display_name": "Python 3 (ipykernel)",
   "language": "python",
   "name": "python3"
  },
  "language_info": {
   "codemirror_mode": {
    "name": "ipython",
    "version": 3
   },
   "file_extension": ".py",
   "mimetype": "text/x-python",
   "name": "python",
   "nbconvert_exporter": "python",
   "pygments_lexer": "ipython3",
   "version": "3.9.7"
  }
 },
 "nbformat": 4,
 "nbformat_minor": 5
}
